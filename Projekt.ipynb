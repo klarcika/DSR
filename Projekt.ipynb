{
  "nbformat": 4,
  "nbformat_minor": 0,
  "metadata": {
    "colab": {
      "provenance": [],
      "authorship_tag": "ABX9TyMfhVEVdjij2fx1wtOsVezX",
      "include_colab_link": true
    },
    "kernelspec": {
      "name": "python3",
      "display_name": "Python 3"
    },
    "language_info": {
      "name": "python"
    }
  },
  "cells": [
    {
      "cell_type": "markdown",
      "metadata": {
        "id": "view-in-github",
        "colab_type": "text"
      },
      "source": [
        "<a href=\"https://colab.research.google.com/github/klarcika/DSR/blob/main/Projekt.ipynb\" target=\"_parent\"><img src=\"https://colab.research.google.com/assets/colab-badge.svg\" alt=\"Open In Colab\"/></a>"
      ]
    },
    {
      "cell_type": "code",
      "execution_count": null,
      "metadata": {
        "id": "i3r_OkhrmJMo"
      },
      "outputs": [],
      "source": [
        "pip install openmeteo-requests\n",
        "pip install requests-cache retry-requests numpy pandas"
      ]
    },
    {
      "cell_type": "code",
      "source": [
        "import openmeteo_requests\n",
        "\n",
        "import requests_cache\n",
        "import pandas as pd\n",
        "from retry_requests import retry\n",
        "\n",
        "# Setup the Open-Meteo API client with cache and retry on error\n",
        "cache_session = requests_cache.CachedSession('.cache', expire_after = 3600)\n",
        "retry_session = retry(cache_session, retries = 5, backoff_factor = 0.2)\n",
        "openmeteo = openmeteo_requests.Client(session = retry_session)\n",
        "\n",
        "# Make sure all required weather variables are listed here\n",
        "# The order of variables in hourly or daily is important to assign them correctly below\n",
        "url = \"https://api.open-meteo.com/v1/forecast\"\n",
        "params = {\n",
        "\t\"latitude\": 48.691,\n",
        "\t\"longitude\": 9.1406,\n",
        "\t\"hourly\": [\"temperature_2m\", \"rain\", \"weather_code\", \"pressure_msl\", \"surface_pressure\", \"wind_speed_10m\", \"wind_direction_10m\", \"soil_temperature_0cm\", \"soil_moisture_0_to_1cm\"],\n",
        "\t\"start_date\": \"2022-12-31\",\n",
        "\t\"end_date\": \"2023-12-31\"\n",
        "}\n",
        "responses = openmeteo.weather_api(url, params=params)\n",
        "\n",
        "# Process first location. Add a for-loop for multiple locations or weather models\n",
        "response = responses[0]\n",
        "print(f\"Coordinates {response.Latitude()}°E {response.Longitude()}°N\")\n",
        "print(f\"Elevation {response.Elevation()} m asl\")\n",
        "print(f\"Timezone {response.Timezone()} {response.TimezoneAbbreviation()}\")\n",
        "print(f\"Timezone difference to GMT+0 {response.UtcOffsetSeconds()} s\")\n",
        "\n",
        "# Process hourly data. The order of variables needs to be the same as requested.\n",
        "hourly = response.Hourly()\n",
        "hourly_temperature_2m = hourly.Variables(0).ValuesAsNumpy()\n",
        "hourly_rain = hourly.Variables(1).ValuesAsNumpy()\n",
        "hourly_weather_code = hourly.Variables(2).ValuesAsNumpy()\n",
        "hourly_pressure_msl = hourly.Variables(3).ValuesAsNumpy()\n",
        "hourly_surface_pressure = hourly.Variables(4).ValuesAsNumpy()\n",
        "hourly_wind_speed_10m = hourly.Variables(5).ValuesAsNumpy()\n",
        "hourly_wind_direction_10m = hourly.Variables(6).ValuesAsNumpy()\n",
        "hourly_soil_temperature_0cm = hourly.Variables(7).ValuesAsNumpy()\n",
        "hourly_soil_moisture_0_to_1cm = hourly.Variables(8).ValuesAsNumpy()\n",
        "\n",
        "hourly_data = {\"date\": pd.date_range(\n",
        "\tstart = pd.to_datetime(hourly.Time(), unit = \"s\"),\n",
        "\tend = pd.to_datetime(hourly.TimeEnd(), unit = \"s\"),\n",
        "\tfreq = pd.Timedelta(seconds = hourly.Interval()),\n",
        "\tinclusive = \"left\"\n",
        ")}\n",
        "hourly_data[\"temperature_2m\"] = hourly_temperature_2m\n",
        "hourly_data[\"rain\"] = hourly_rain\n",
        "hourly_data[\"weather_code\"] = hourly_weather_code\n",
        "hourly_data[\"pressure_msl\"] = hourly_pressure_msl\n",
        "hourly_data[\"surface_pressure\"] = hourly_surface_pressure\n",
        "hourly_data[\"wind_speed_10m\"] = hourly_wind_speed_10m\n",
        "hourly_data[\"wind_direction_10m\"] = hourly_wind_direction_10m\n",
        "hourly_data[\"soil_temperature_0cm\"] = hourly_soil_temperature_0cm\n",
        "hourly_data[\"soil_moisture_0_to_1cm\"] = hourly_soil_moisture_0_to_1cm\n",
        "\n",
        "hourly_dataframe = pd.DataFrame(data = hourly_data)\n",
        "print(hourly_dataframe)"
      ],
      "metadata": {
        "id": "IMkf_bcro7ao"
      },
      "execution_count": null,
      "outputs": []
    }
  ]
}